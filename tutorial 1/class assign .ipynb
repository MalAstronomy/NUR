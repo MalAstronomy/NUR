{
 "cells": [
  {
   "cell_type": "code",
   "execution_count": 4,
   "metadata": {},
   "outputs": [],
   "source": [
    "import numpy as np"
   ]
  },
  {
   "cell_type": "code",
   "execution_count": 6,
   "metadata": {},
   "outputs": [],
   "source": [
    "a= np.arange(100)\n",
    "std= np.std(a)\n",
    "avg=np.average(a)\n",
    "\n",
    "odd = a[np.where([i%2==0 for i in a])[0]]\n",
    "even = a[np.where([i%2==0 for i in a])[0]]\n",
    "\n",
    "odd_avg= np.average(odd)\n",
    "odd_std= np.std(odd)\n",
    "\n",
    "even_avg=np.average(even)\n",
    "even_std=np.std(even)\n",
    "\n",
    "b=a \n",
    "\n",
    "a_cut= np.delete(b,np.arange(10,21))\n",
    "a_cut= np.delete(a_cut,np.arange(45,58))\n",
    "\n",
    "a_cut_avg = np.average(a_cut)\n",
    "a_cut_std= np.std(a_cut)\n",
    "\n",
    "a_other = np.setdiff1d(np.union1d(a, a_cut), np.intersect1d(a,a_cut ))\n",
    "a_other_avg=np.average(a_other)\n",
    "a_other_std=np.std(a_other)\n",
    "\n",
    "x= np.linspace(0,4,100)\n",
    "y = 0.8*np.exp(x)- 2*(x)\n",
    "y_mean= np.average(y)\n",
    "\n"
   ]
  },
  {
   "cell_type": "code",
   "execution_count": null,
   "metadata": {},
   "outputs": [],
   "source": []
  }
 ],
 "metadata": {
  "kernelspec": {
   "display_name": "Python 3",
   "language": "python",
   "name": "python3"
  },
  "language_info": {
   "codemirror_mode": {
    "name": "ipython",
    "version": 3
   },
   "file_extension": ".py",
   "mimetype": "text/x-python",
   "name": "python",
   "nbconvert_exporter": "python",
   "pygments_lexer": "ipython3",
   "version": "3.6.8"
  }
 },
 "nbformat": 4,
 "nbformat_minor": 2
}
